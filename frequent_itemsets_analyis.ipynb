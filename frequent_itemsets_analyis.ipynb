{
 "cells": [
  {
   "cell_type": "markdown",
   "id": "42cfdf09",
   "metadata": {},
   "source": [
    "# Exploring Frequent Itemsets: Closed vs Maximal\n",
    "\n",
    "This notebook focuses on simulating transaction data for a supermarket scenario and applying frequent pattern mining using the Apriori algorithm.\n",
    "\n",
    "In this section, we simulate transaction data that will later be used to identify:\n",
    "- Frequent Itemsets\n",
    "- Closed Frequent Itemsets\n",
    "- Maximal Frequent Itemsets\n"
   ]
  },
  {
   "cell_type": "markdown",
   "id": "ecb61831",
   "metadata": {},
   "source": [
    "##  Task 1: Simulate Supermarket Transaction Data\n",
    "\n",
    "In this section, we simulate 3,000 supermarket transactions.  \n",
    "Each transaction contains between 2 and 7 items, randomly selected from a pool of 30 unique items.  \n",
    "The resulting dataset is saved to `supermarket_transactions.csv` for further analysis.\n",
    "\n",
    "---\n",
    "\n",
    "###  Student Responsible: Selmah Tzindori"
   ]
  },
  {
   "cell_type": "code",
   "execution_count": 3,
   "id": "c302191f",
   "metadata": {},
   "outputs": [
    {
     "data": {
      "text/html": [
       "<div>\n",
       "<style scoped>\n",
       "    .dataframe tbody tr th:only-of-type {\n",
       "        vertical-align: middle;\n",
       "    }\n",
       "\n",
       "    .dataframe tbody tr th {\n",
       "        vertical-align: top;\n",
       "    }\n",
       "\n",
       "    .dataframe thead th {\n",
       "        text-align: right;\n",
       "    }\n",
       "</style>\n",
       "<table border=\"1\" class=\"dataframe\">\n",
       "  <thead>\n",
       "    <tr style=\"text-align: right;\">\n",
       "      <th></th>\n",
       "      <th>Transaction</th>\n",
       "    </tr>\n",
       "  </thead>\n",
       "  <tbody>\n",
       "    <tr>\n",
       "      <th>0</th>\n",
       "      <td>rice, water, bananas, cheese, potatoes, grapes</td>\n",
       "    </tr>\n",
       "    <tr>\n",
       "      <th>1</th>\n",
       "      <td>toilet paper, onions, beef, potatoes, lettuce</td>\n",
       "    </tr>\n",
       "    <tr>\n",
       "      <th>2</th>\n",
       "      <td>pasta, carrots</td>\n",
       "    </tr>\n",
       "    <tr>\n",
       "      <th>3</th>\n",
       "      <td>onions, soda</td>\n",
       "    </tr>\n",
       "    <tr>\n",
       "      <th>4</th>\n",
       "      <td>bananas, toilet paper</td>\n",
       "    </tr>\n",
       "  </tbody>\n",
       "</table>\n",
       "</div>"
      ],
      "text/plain": [
       "                                      Transaction\n",
       "0  rice, water, bananas, cheese, potatoes, grapes\n",
       "1   toilet paper, onions, beef, potatoes, lettuce\n",
       "2                                  pasta, carrots\n",
       "3                                    onions, soda\n",
       "4                           bananas, toilet paper"
      ]
     },
     "execution_count": 3,
     "metadata": {},
     "output_type": "execute_result"
    }
   ],
   "source": [
    "# [Student: Selmah Tzindori] Simulation of 3,000 supermarket transactions and export to CSV\n",
    "\n",
    "# Import the random module to help us randomly select items for each transaction\n",
    "import random\n",
    "\n",
    "# Import pandas for working with structured data like tables and CSV files\n",
    "import pandas as pd\n",
    "\n",
    "# Step 1: Define a list (pool) of 30 unique supermarket items\n",
    "# These will be randomly picked to form each transaction\n",
    "item_pool = [\n",
    "    'milk', 'bread', 'eggs', 'cheese', 'butter', 'juice', 'apples', 'bananas', 'oranges', 'grapes',\n",
    "    'cereal', 'chocolate', 'yogurt', 'chicken', 'beef', 'pasta', 'rice', 'tomatoes', 'onions', 'potatoes',\n",
    "    'carrots', 'lettuce', 'beans', 'soda', 'water', 'coffee', 'tea', 'cookies', 'ice cream', 'toilet paper'\n",
    "]\n",
    "\n",
    "# Step 2: Set the number of transactions to simulate\n",
    "num_transactions = 3000  # Total number of customers or baskets\n",
    "\n",
    "# Create an empty list that will hold each simulated transaction\n",
    "transactions = []\n",
    "\n",
    "# Step 3: Loop 3,000 times to create each transaction\n",
    "for _ in range(num_transactions):\n",
    "    # Randomly choose a number between 2 and 7 to determine how many items in this transaction\n",
    "    transaction_length = random.randint(2, 7)\n",
    "\n",
    "    # Randomly select 'transaction_length' number of unique items from the item pool\n",
    "    transaction = random.sample(item_pool, transaction_length)\n",
    "\n",
    "    # Add the generated transaction (a list of items) to our list of all transactions\n",
    "    transactions.append(transaction)\n",
    "\n",
    "# Step 4: Convert the list of transactions into a format suitable for saving to CSV\n",
    "# Each transaction will become one string, with items separated by commas\n",
    "transaction_strings = [', '.join(t) for t in transactions]\n",
    "\n",
    "# Create a pandas DataFrame with one column called 'Transaction'\n",
    "# Each row in the DataFrame represents a customer transaction\n",
    "transactions_df = pd.DataFrame({'Transaction': transaction_strings})\n",
    "\n",
    "# Step 5: Save the DataFrame to a CSV file\n",
    "# This file will be used in the next steps of the project (frequent itemset mining)\n",
    "transactions_df.to_csv('supermarket_transactions.csv', index=False)\n",
    "\n",
    "# Step 6: Show the first 5 transactions to check the output looks correct\n",
    "transactions_df.head()\n"
   ]
  }
 ],
 "metadata": {
  "kernelspec": {
   "display_name": "Python 3",
   "language": "python",
   "name": "python3"
  },
  "language_info": {
   "codemirror_mode": {
    "name": "ipython",
    "version": 3
   },
   "file_extension": ".py",
   "mimetype": "text/x-python",
   "name": "python",
   "nbconvert_exporter": "python",
   "pygments_lexer": "ipython3",
   "version": "3.13.5"
  }
 },
 "nbformat": 4,
 "nbformat_minor": 5
}
