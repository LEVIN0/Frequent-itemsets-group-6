{
 "cells": [
  {
   "cell_type": "markdown",
   "id": "42cfdf09",
   "metadata": {
    "collapsed": false
   },
   "source": [
    "# Exploring Frequent Itemsets: Closed vs Maximal\n",
    "\n",
    "This notebook focuses on simulating transaction data for a supermarket scenario and applying frequent pattern mining using the Apriori algorithm.\n",
    "\n",
    "In this section, we simulate transaction data that will later be used to identify:\n",
    "- Frequent Itemsets\n",
    "- Closed Frequent Itemsets\n",
    "- Maximal Frequent Itemsets\n"
   ]
  },
  {
   "cell_type": "markdown",
   "id": "ecb61831",
   "metadata": {
    "collapsed": false
   },
   "source": [
    "##  Task 1: Simulate Supermarket Transaction Data\n",
    "\n",
    "In this section, we simulate 3,000 supermarket transactions.  \n",
    "Each transaction contains between 2 and 7 items, randomly selected from a pool of 30 unique items.  \n",
    "The resulting dataset is saved to `supermarket_transactions.csv` for further analysis.\n",
    "\n",
    "---\n",
    "\n",
    "###  Student Responsible: Selmah Tzindori\n",
    "\n"
   ]
  },
  {
   "cell_type": "code",
   "execution_count": 1,
   "id": "c302191f",
   "metadata": {
    "collapsed": false
   },
   "outputs": [
    {
     "data": {
      "text/html": "<div>\n<style scoped>\n    .dataframe tbody tr th:only-of-type {\n        vertical-align: middle;\n    }\n\n    .dataframe tbody tr th {\n        vertical-align: top;\n    }\n\n    .dataframe thead th {\n        text-align: right;\n    }\n</style>\n<table border=\"1\" class=\"dataframe\">\n  <thead>\n    <tr style=\"text-align: right;\">\n      <th></th>\n      <th>Transaction</th>\n    </tr>\n  </thead>\n  <tbody>\n    <tr>\n      <th>0</th>\n      <td>tea, onions, cheese, chicken, juice, apples, b...</td>\n    </tr>\n    <tr>\n      <th>1</th>\n      <td>cookies, ice cream, juice, tomatoes, cheese</td>\n    </tr>\n    <tr>\n      <th>2</th>\n      <td>bananas, cereal</td>\n    </tr>\n    <tr>\n      <th>3</th>\n      <td>chicken, beef, eggs, milk, bananas, oranges</td>\n    </tr>\n    <tr>\n      <th>4</th>\n      <td>cookies, tea, apples, grapes</td>\n    </tr>\n  </tbody>\n</table>\n</div>",
      "text/plain": [
       "                                         Transaction\n",
       "0  tea, onions, cheese, chicken, juice, apples, b...\n",
       "1        cookies, ice cream, juice, tomatoes, cheese\n",
       "2                                    bananas, cereal\n",
       "3        chicken, beef, eggs, milk, bananas, oranges\n",
       "4                       cookies, tea, apples, grapes"
      ]
     },
     "execution_count": 1,
     "metadata": {
     },
     "output_type": "execute_result"
    }
   ],
   "source": [
    "# [Student: Selmah Tzindori] Simulation of 3,000 supermarket transactions and export to CSV\n",
    "\n",
    "# Import the random module to help us randomly select items for each transaction\n",
    "import random\n",
    "\n",
    "# Import pandas for working with structured data like tables and CSV files\n",
    "import pandas as pd\n",
    "\n",
    "# Step 1: Define a list (pool) of 30 unique supermarket items\n",
    "# These will be randomly picked to form each transaction\n",
    "item_pool = [\n",
    "    'milk', 'bread', 'eggs', 'cheese', 'butter', 'juice', 'apples', 'bananas', 'oranges', 'grapes',\n",
    "    'cereal', 'chocolate', 'yogurt', 'chicken', 'beef', 'pasta', 'rice', 'tomatoes', 'onions', 'potatoes',\n",
    "    'carrots', 'lettuce', 'beans', 'soda', 'water', 'coffee', 'tea', 'cookies', 'ice cream', 'toilet paper'\n",
    "]\n",
    "\n",
    "# Step 2: Set the number of transactions to simulate\n",
    "num_transactions = 3000  # Total number of customers or baskets\n",
    "\n",
    "# Create an empty list that will hold each simulated transaction\n",
    "transactions = []\n",
    "\n",
    "# Step 3: Loop 3,000 times to create each transaction\n",
    "for _ in range(num_transactions):\n",
    "    # Randomly choose a number between 2 and 7 to determine how many items in this transaction\n",
    "    transaction_length = random.randint(2, 7)\n",
    "\n",
    "    # Randomly select 'transaction_length' number of unique items from the item pool\n",
    "    transaction = random.sample(item_pool, transaction_length)\n",
    "\n",
    "    # Add the generated transaction (a list of items) to our list of all transactions\n",
    "    transactions.append(transaction)\n",
    "\n",
    "# Step 4: Convert the list of transactions into a format suitable for saving to CSV\n",
    "# Each transaction will become one string, with items separated by commas\n",
    "transaction_strings = [', '.join(t) for t in transactions]\n",
    "\n",
    "# Create a pandas DataFrame with one column called 'Transaction'\n",
    "# Each row in the DataFrame represents a customer transaction\n",
    "transactions_df = pd.DataFrame({'Transaction': transaction_strings})\n",
    "\n",
    "# Step 5: Save the DataFrame to a CSV file\n",
    "# This file will be used in the next steps of the project (frequent itemset mining)\n",
    "transactions_df.to_csv('supermarket_transactions.csv', index=False)\n",
    "\n",
    "# Step 6: Show the first 5 transactions to check the output looks correct\n",
    "transactions_df.head()\n"
   ]
  },
  {
   "cell_type": "markdown",
   "id": "7517b0a0",
   "metadata": {
    "collapsed": false
   },
   "source": [
    "##  Task 2: Convert Transactions to One-Hot Encoded Format\n",
    "\n",
    "We convert the simulated transaction data into a one-hot encoded format.  \n",
    "This format is required by the `apriori()` algorithm in the `mlxtend.frequent_patterns` module.\n",
    "\n",
    "Each transaction becomes a row in the DataFrame, and each unique item becomes a column.  \n",
    "A value of `True` indicates that the item is present in the transaction.\n",
    "\n",
    "---\n",
    "\n",
    "###  Student Responsible: Levin\n",
    "\n"
   ]
  },
  {
   "cell_type": "code",
   "execution_count": 2,
   "id": "f1b37519",
   "metadata": {
    "collapsed": false
   },
   "outputs": [
    {
     "data": {
      "text/html": "<div>\n<style scoped>\n    .dataframe tbody tr th:only-of-type {\n        vertical-align: middle;\n    }\n\n    .dataframe tbody tr th {\n        vertical-align: top;\n    }\n\n    .dataframe thead th {\n        text-align: right;\n    }\n</style>\n<table border=\"1\" class=\"dataframe\">\n  <thead>\n    <tr style=\"text-align: right;\">\n      <th></th>\n      <th>apples</th>\n      <th>bananas</th>\n      <th>beans</th>\n      <th>beef</th>\n      <th>bread</th>\n      <th>butter</th>\n      <th>carrots</th>\n      <th>cereal</th>\n      <th>cheese</th>\n      <th>chicken</th>\n      <th>...</th>\n      <th>oranges</th>\n      <th>pasta</th>\n      <th>potatoes</th>\n      <th>rice</th>\n      <th>soda</th>\n      <th>tea</th>\n      <th>toilet paper</th>\n      <th>tomatoes</th>\n      <th>water</th>\n      <th>yogurt</th>\n    </tr>\n  </thead>\n  <tbody>\n    <tr>\n      <th>0</th>\n      <td>True</td>\n      <td>False</td>\n      <td>True</td>\n      <td>False</td>\n      <td>False</td>\n      <td>False</td>\n      <td>False</td>\n      <td>False</td>\n      <td>True</td>\n      <td>True</td>\n      <td>...</td>\n      <td>False</td>\n      <td>False</td>\n      <td>False</td>\n      <td>False</td>\n      <td>False</td>\n      <td>True</td>\n      <td>False</td>\n      <td>False</td>\n      <td>False</td>\n      <td>False</td>\n    </tr>\n    <tr>\n      <th>1</th>\n      <td>False</td>\n      <td>False</td>\n      <td>False</td>\n      <td>False</td>\n      <td>False</td>\n      <td>False</td>\n      <td>False</td>\n      <td>False</td>\n      <td>True</td>\n      <td>False</td>\n      <td>...</td>\n      <td>False</td>\n      <td>False</td>\n      <td>False</td>\n      <td>False</td>\n      <td>False</td>\n      <td>False</td>\n      <td>False</td>\n      <td>True</td>\n      <td>False</td>\n      <td>False</td>\n    </tr>\n    <tr>\n      <th>2</th>\n      <td>False</td>\n      <td>True</td>\n      <td>False</td>\n      <td>False</td>\n      <td>False</td>\n      <td>False</td>\n      <td>False</td>\n      <td>True</td>\n      <td>False</td>\n      <td>False</td>\n      <td>...</td>\n      <td>False</td>\n      <td>False</td>\n      <td>False</td>\n      <td>False</td>\n      <td>False</td>\n      <td>False</td>\n      <td>False</td>\n      <td>False</td>\n      <td>False</td>\n      <td>False</td>\n    </tr>\n    <tr>\n      <th>3</th>\n      <td>False</td>\n      <td>True</td>\n      <td>False</td>\n      <td>True</td>\n      <td>False</td>\n      <td>False</td>\n      <td>False</td>\n      <td>False</td>\n      <td>False</td>\n      <td>True</td>\n      <td>...</td>\n      <td>True</td>\n      <td>False</td>\n      <td>False</td>\n      <td>False</td>\n      <td>False</td>\n      <td>False</td>\n      <td>False</td>\n      <td>False</td>\n      <td>False</td>\n      <td>False</td>\n    </tr>\n    <tr>\n      <th>4</th>\n      <td>True</td>\n      <td>False</td>\n      <td>False</td>\n      <td>False</td>\n      <td>False</td>\n      <td>False</td>\n      <td>False</td>\n      <td>False</td>\n      <td>False</td>\n      <td>False</td>\n      <td>...</td>\n      <td>False</td>\n      <td>False</td>\n      <td>False</td>\n      <td>False</td>\n      <td>False</td>\n      <td>True</td>\n      <td>False</td>\n      <td>False</td>\n      <td>False</td>\n      <td>False</td>\n    </tr>\n    <tr>\n      <th>...</th>\n      <td>...</td>\n      <td>...</td>\n      <td>...</td>\n      <td>...</td>\n      <td>...</td>\n      <td>...</td>\n      <td>...</td>\n      <td>...</td>\n      <td>...</td>\n      <td>...</td>\n      <td>...</td>\n      <td>...</td>\n      <td>...</td>\n      <td>...</td>\n      <td>...</td>\n      <td>...</td>\n      <td>...</td>\n      <td>...</td>\n      <td>...</td>\n      <td>...</td>\n      <td>...</td>\n    </tr>\n    <tr>\n      <th>2995</th>\n      <td>True</td>\n      <td>False</td>\n      <td>False</td>\n      <td>False</td>\n      <td>True</td>\n      <td>False</td>\n      <td>True</td>\n      <td>False</td>\n      <td>False</td>\n      <td>False</td>\n      <td>...</td>\n      <td>False</td>\n      <td>False</td>\n      <td>False</td>\n      <td>False</td>\n      <td>False</td>\n      <td>False</td>\n      <td>True</td>\n      <td>False</td>\n      <td>False</td>\n      <td>False</td>\n    </tr>\n    <tr>\n      <th>2996</th>\n      <td>False</td>\n      <td>False</td>\n      <td>False</td>\n      <td>False</td>\n      <td>False</td>\n      <td>False</td>\n      <td>True</td>\n      <td>False</td>\n      <td>False</td>\n      <td>False</td>\n      <td>...</td>\n      <td>False</td>\n      <td>False</td>\n      <td>False</td>\n      <td>False</td>\n      <td>False</td>\n      <td>False</td>\n      <td>False</td>\n      <td>False</td>\n      <td>False</td>\n      <td>False</td>\n    </tr>\n    <tr>\n      <th>2997</th>\n      <td>True</td>\n      <td>True</td>\n      <td>False</td>\n      <td>False</td>\n      <td>False</td>\n      <td>False</td>\n      <td>False</td>\n      <td>False</td>\n      <td>False</td>\n      <td>False</td>\n      <td>...</td>\n      <td>False</td>\n      <td>False</td>\n      <td>False</td>\n      <td>False</td>\n      <td>False</td>\n      <td>False</td>\n      <td>True</td>\n      <td>False</td>\n      <td>False</td>\n      <td>False</td>\n    </tr>\n    <tr>\n      <th>2998</th>\n      <td>False</td>\n      <td>False</td>\n      <td>True</td>\n      <td>False</td>\n      <td>False</td>\n      <td>False</td>\n      <td>False</td>\n      <td>False</td>\n      <td>True</td>\n      <td>False</td>\n      <td>...</td>\n      <td>False</td>\n      <td>False</td>\n      <td>False</td>\n      <td>False</td>\n      <td>False</td>\n      <td>False</td>\n      <td>True</td>\n      <td>False</td>\n      <td>False</td>\n      <td>False</td>\n    </tr>\n    <tr>\n      <th>2999</th>\n      <td>False</td>\n      <td>False</td>\n      <td>True</td>\n      <td>False</td>\n      <td>False</td>\n      <td>False</td>\n      <td>False</td>\n      <td>False</td>\n      <td>False</td>\n      <td>False</td>\n      <td>...</td>\n      <td>False</td>\n      <td>False</td>\n      <td>False</td>\n      <td>False</td>\n      <td>True</td>\n      <td>False</td>\n      <td>False</td>\n      <td>False</td>\n      <td>True</td>\n      <td>False</td>\n    </tr>\n  </tbody>\n</table>\n<p>3000 rows × 30 columns</p>\n</div>",
      "text/plain": [
       "      apples  bananas  beans   beef  bread  butter  carrots  cereal  cheese  \\\n",
       "0       True    False   True  False  False   False    False   False    True   \n",
       "1      False    False  False  False  False   False    False   False    True   \n",
       "2      False     True  False  False  False   False    False    True   False   \n",
       "3      False     True  False   True  False   False    False   False   False   \n",
       "4       True    False  False  False  False   False    False   False   False   \n",
       "...      ...      ...    ...    ...    ...     ...      ...     ...     ...   \n",
       "2995    True    False  False  False   True   False     True   False   False   \n",
       "2996   False    False  False  False  False   False     True   False   False   \n",
       "2997    True     True  False  False  False   False    False   False   False   \n",
       "2998   False    False   True  False  False   False    False   False    True   \n",
       "2999   False    False   True  False  False   False    False   False   False   \n",
       "\n",
       "      chicken  ...  oranges  pasta  potatoes   rice   soda    tea  \\\n",
       "0        True  ...    False  False     False  False  False   True   \n",
       "1       False  ...    False  False     False  False  False  False   \n",
       "2       False  ...    False  False     False  False  False  False   \n",
       "3        True  ...     True  False     False  False  False  False   \n",
       "4       False  ...    False  False     False  False  False   True   \n",
       "...       ...  ...      ...    ...       ...    ...    ...    ...   \n",
       "2995    False  ...    False  False     False  False  False  False   \n",
       "2996    False  ...    False  False     False  False  False  False   \n",
       "2997    False  ...    False  False     False  False  False  False   \n",
       "2998    False  ...    False  False     False  False  False  False   \n",
       "2999    False  ...    False  False     False  False   True  False   \n",
       "\n",
       "      toilet paper  tomatoes  water  yogurt  \n",
       "0            False     False  False   False  \n",
       "1            False      True  False   False  \n",
       "2            False     False  False   False  \n",
       "3            False     False  False   False  \n",
       "4            False     False  False   False  \n",
       "...            ...       ...    ...     ...  \n",
       "2995          True     False  False   False  \n",
       "2996         False     False  False   False  \n",
       "2997          True     False  False   False  \n",
       "2998          True     False  False   False  \n",
       "2999         False     False   True   False  \n",
       "\n",
       "[3000 rows x 30 columns]"
      ]
     },
     "execution_count": 2,
     "metadata": {
     },
     "output_type": "execute_result"
    }
   ],
   "source": [
    "#Importing the TransactionEncoder class from mlxtend\n",
    "from mlxtend.preprocessing import TransactionEncoder\n",
    "\n",
    "# Initializing the encoder object\n",
    "te = TransactionEncoder()\n",
    "# Fitting the encoder to the transaction data and transform it to a boolean array\n",
    "# This will return a 2D array where each row represents a transaction and each column represents an item\n",
    "# The value will be True if the item is in that transaction, otherwise False\n",
    "te_ary = te.fit(transactions).transform(transactions)\n",
    "\n",
    "# Converting the boolean array to a DataFrame with column names as item names\n",
    "# Each column now corresponds to an item, and each row is a transaction with True/False values\n",
    "df_encoded = pd.DataFrame(te_ary, columns=te.columns_)\n",
    "\n",
    "df_encoded # displaying the data\n"
   ]
  },
  {
   "cell_type": "markdown",
   "id": "c09ce10b",
   "metadata": {
    "collapsed": false
   },
   "source": [
    "##  Task 3: Find Frequent Itemsets using the Apriori Algorithm\n",
    "\n",
    "\n",
    "We mine the frequent items that support ≥ 0.05 by using`apriori()` algorithm in the `mlxtend.frequent_patterns` module.\n",
    "\n",
    "The output is the top ten items and their respective support value\n",
    "###  Student Responsible: Ted Korir\n"
   ]
  },
  {
   "cell_type": "code",
   "execution_count": 5,
   "id": "e1c6a47a",
   "metadata": {
    "collapsed": false
   },
   "outputs": [
    {
     "name": "stdout",
     "output_type": "stream",
     "text": [
      "\n",
      "Top 10 frequent itemsets (min_support = 0.05):\n",
      "    support   itemsets\n",
      "0  0.159333     {beef}\n",
      "1  0.158333   {apples}\n",
      "2  0.157333    {water}\n",
      "3  0.155333   {butter}\n",
      "4  0.155333  {lettuce}\n",
      "5  0.155333   {coffee}\n",
      "6  0.155000   {onions}\n",
      "7  0.153333   {yogurt}\n",
      "8  0.153000    {juice}\n",
      "9  0.152667  {carrots}\n"
     ]
    }
   ],
   "source": [
    "\n",
    "\n",
    "# Importing library\n",
    "from mlxtend.frequent_patterns import apriori\n",
    "import pandas as pd\n",
    "\n",
    "# Loading the transactions\n",
    "trans_df = pd.read_csv(\"supermarket_transactions.csv\")     \n",
    "\n",
    "# Split items in the \"Transaction\" column into lists\n",
    "transactions = trans_df[\"Transaction\"].str.split(\", \")\n",
    "\n",
    "# One‑hot encoding: create a DataFrame with True/False for each item per transaction\n",
    "item_pool = sorted({item for basket in transactions for item in basket})\n",
    "encoded_rows = [{item: (item in basket) for item in item_pool} for basket in transactions]\n",
    "df = pd.DataFrame(encoded_rows)\n",
    "\n",
    "# 4. Mining frequent itemsets (support ≥ 0.05)\n",
    "frequent_itemsets = apriori(df, min_support=0.05, use_colnames=True)\n",
    "frequent_itemsets[\"itemsets\"] = frequent_itemsets[\"itemsets\"].apply(set)\n",
    "\n",
    "# [Student: Angela Irungu 669289] 5. Sort by support \n",
    "frequent_itemsets = frequent_itemsets.sort_values(\"support\", ascending=False, ignore_index=True)\n",
    "\n",
    "# Display top‑10 frequent itemsets\n",
    "print(\"\\nTop 10 frequent itemsets (min_support = 0.05):\")\n",
    "print(frequent_itemsets.head(10))\n"
   ]
  },
  {
   "cell_type": "markdown",
   "id": "ba4950",
   "metadata": {
    "collapsed": false
   },
   "source": [
    "<span style='font-size:xx-large'>**TASK 4**</span>\n",
    "\n",
    "<span style='font-size:large'>_Student Responsible: Angela Irungu_ </span>\n",
    "\n",
    "<span style='font-size:large'><u>_CLOSED FREQUENT ITEMSETS ANALYSIS SECTION_</u></span>\n",
    "\n",
    "<span style='font-size:large'>This section reads the supermarket transaction data and identifies closed frequent itemsets.</span>\n",
    "\n",
    "<span style='font-size:large'>A closed itemset is one that has no superset with the same support count.</span>\n",
    "\n",
    "<span style='font-size:large'>We use a support count dictionary to track frequency of items and combinations.</span>\n",
    "\n",
    "<span style='font-size:large'>The output below shows the first five closed itemsets and their support counts.</span>\n"
   ]
  },
  {
   "cell_type": "code",
   "execution_count": 6,
   "id": "03a292",
   "metadata": {
    "collapsed": false
   },
   "outputs": [
    {
     "name": "stdout",
     "output_type": "stream",
     "text": [
      "Closed Frequent Itemsets (first 5):\n",
      "{' onions'} -> support: 354\n",
      "{' cheese'} -> support: 351\n",
      "{' chicken'} -> support: 323\n",
      "{' beans'} -> support: 338\n",
      "{' juice'} -> support: 359\n"
     ]
    }
   ],
   "source": [
    "\n",
    "from collections import defaultdict\n",
    "import pandas as pd\n",
    "\n",
    "\n",
    "# Load the transactions from CSV file\n",
    "df = pd.read_csv(\"supermarket_transactions.csv\")\n",
    "\n",
    "# Prepare list of transactions\n",
    "if df.shape[1] == 1:\n",
    "    transactions = df.iloc[:, 0].apply(lambda x: set(str(x).split(','))).tolist()\n",
    "else:\n",
    "    transactions = df.apply(lambda row: set(row.dropna().astype(str)), axis=1).tolist()\n",
    "\n",
    "# Count support\n",
    "support_count = defaultdict(int)\n",
    "for t in transactions:\n",
    "    for item in t:\n",
    "        support_count[frozenset([item])] += 1\n",
    "    for i1 in t:\n",
    "        for i2 in t:\n",
    "            if i1 < i2:\n",
    "                support_count[frozenset([i1, i2])] += 1\n",
    "    if len(t) >= 3:\n",
    "        support_count[frozenset(t)] += 1\n",
    "\n",
    "# Find closed itemsets\n",
    "closed_itemsets = []\n",
    "for itemset in support_count:\n",
    "    is_closed = True\n",
    "    for other in support_count:\n",
    "        if itemset < other and support_count[itemset] == support_count[other]:\n",
    "            is_closed = False\n",
    "            break\n",
    "    if is_closed:\n",
    "        closed_itemsets.append((set(itemset), support_count[itemset]))\n",
    "\n",
    "# Show first five only\n",
    "print(\"Closed Frequent Itemsets (first 5):\")\n",
    "for itemset, count in closed_itemsets[:5]:\n",
    "    print(f\"{itemset} -> support: {count}\")\n"
   ]
  }
 ],
 "metadata": {
  "kernelspec": {
   "argv": [
    "/ext/venvs/cocalc/bin/python3",
    "-Xfrozen_modules=off",
    "-m",
    "ipykernel_launcher",
    "--HistoryManager.enabled=False",
    "--matplotlib=inline",
    "-c",
    "%config InlineBackend.figure_formats = set(['retina'])\nimport matplotlib; matplotlib.rcParams['figure.figsize'] = (12, 7)",
    "-f",
    "{connection_file}"
   ],
   "display_name": "Python 3 (CoCalc)",
   "env": {
   },
   "language": "python",
   "metadata": {
    "cocalc": {
     "description": "Python 3 system-wide environment. Use 'CoCalc' for the most complete Python environment.",
     "priority": 100,
     "url": "https://www.python.org/"
    },
    "debugger": true
   },
   "name": "python3",
   "resource_dir": "/ext/jupyter/kernels/python3"
  },
  "language_info": {
   "codemirror_mode": {
    "name": "ipython",
    "version": 3
   },
   "file_extension": ".py",
   "mimetype": "text/x-python",
   "name": "python",
   "nbconvert_exporter": "python",
   "pygments_lexer": "ipython3",
   "version": "3.12.10"
  }
 },
 "nbformat": 4,
 "nbformat_minor": 4
}